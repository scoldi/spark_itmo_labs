{
 "cells": [
  {
   "cell_type": "code",
   "execution_count": 1,
   "metadata": {
    "ExecuteTime": {
     "end_time": "2020-10-07T09:36:12.590282Z",
     "start_time": "2020-10-07T09:36:09.177792Z"
    }
   },
   "outputs": [],
   "source": [
    "from pyspark.sql import SparkSession\n",
    "from pyspark.context import SparkContext\n",
    "from pyspark.sql.functions import * \n",
    "from pyspark.sql.types import * \n",
    "import pandas as pd\n",
    "import os"
   ]
  },
  {
   "cell_type": "code",
   "execution_count": 2,
   "metadata": {
    "ExecuteTime": {
     "end_time": "2020-10-07T09:36:23.582579Z",
     "start_time": "2020-10-07T09:36:12.605292Z"
    }
   },
   "outputs": [],
   "source": [
    "sc = SparkSession.builder.appName(\"PysparkLab3\") \\\n",
    "    .config (\"spark.sql.shuffle.partitions\", \"50\") \\\n",
    "    .config(\"spark.driver.maxResultSize\",\"5g\") \\\n",
    "    .config (\"spark.sql.execution.arrow.enabled\", \"true\") \\\n",
    "    .getOrCreate()"
   ]
  },
  {
   "cell_type": "code",
   "execution_count": 3,
   "metadata": {
    "ExecuteTime": {
     "end_time": "2020-10-07T09:37:26.638990Z",
     "start_time": "2020-10-07T09:36:23.596573Z"
    }
   },
   "outputs": [],
   "source": [
    "posts_data_dir = r\"G:\\Data\\spark_labs\\bigdata20\\bigdata20\\followers_posts_api_final.json\"\n",
    "group_posts_data_dir = r\"G:\\Data\\spark_labs\\bigdata20\\bigdata20\\posts_api.json\"\n",
    "result_dir = r\"G:\\Data\\spark_labs\\bigdata20\\bigdata20\\results\\task3\"\n",
    "\n",
    "posts1_path = os.path.join(posts_data_dir, '0_39773a62_followers_posts_api_final.json')\n",
    "posts2_path = os.path.join(posts_data_dir, '1_7a8a2098_followers_posts_api_final.json')\n",
    "group_posts_path = os.path.join(group_posts_data_dir, '0_a99c9b7e_posts_api.json')\n",
    "posts1_df = sc.read.json(posts1_path)\n",
    "posts2_df = sc.read.json(posts2_path)\n",
    "group_posts_df = sc.read.json(group_posts_path)"
   ]
  },
  {
   "cell_type": "code",
   "execution_count": null,
   "metadata": {
    "ExecuteTime": {
     "end_time": "2020-10-07T09:37:26.854263Z",
     "start_time": "2020-10-07T09:36:10.218Z"
    }
   },
   "outputs": [],
   "source": [
    "group_posts_df.show(10)"
   ]
  },
  {
   "cell_type": "code",
   "execution_count": null,
   "metadata": {
    "ExecuteTime": {
     "end_time": "2020-10-07T09:37:26.858266Z",
     "start_time": "2020-10-07T09:36:10.654Z"
    }
   },
   "outputs": [],
   "source": [
    "posts1_df.show()"
   ]
  },
  {
   "cell_type": "code",
   "execution_count": null,
   "metadata": {},
   "outputs": [],
   "source": [
    "posts1_df.createOrReplaceTempView(\"df1_view\")\n",
    "posts2_df.createOrReplaceTempView(\"df2_view\")\n",
    "group_posts_df.createOrReplaceTempView(\"group_posts_view\")\n",
    "posts1 = sc.sql(\"\"\"SELECT id, copy_history, owner_id\n",
    "                            FROM df1_view \n",
    "                            WHERE copy_history IS NOT NULL \n",
    "                       \"\"\")\n",
    "posts2 = sc.sql(\"\"\"SELECT id, copy_history, owner_id\n",
    "                            FROM df2_view \n",
    "                            WHERE copy_history IS NOT NULL \n",
    "                       \"\"\")"
   ]
  },
  {
   "cell_type": "code",
   "execution_count": 51,
   "metadata": {
    "ExecuteTime": {
     "end_time": "2020-10-06T21:18:14.592143Z",
     "start_time": "2020-10-06T21:18:14.552118Z"
    }
   },
   "outputs": [],
   "source": [
    "posts1.createOrReplaceTempView(\"posts1_view\")\n",
    "posts2.createOrReplaceTempView(\"posts2_view\")\n",
    "reposts_from_group = sc.sql(\"\"\"SELECT gpv.id, p1v.owner_id \n",
    "                            FROM posts1_view p1v, group_posts_view gpv\n",
    "                            WHERE p1v.copy_history[0].id == gpv.id\n",
    "                       \"\"\")"
   ]
  },
  {
   "cell_type": "code",
   "execution_count": 53,
   "metadata": {
    "ExecuteTime": {
     "end_time": "2020-10-06T21:18:52.312269Z",
     "start_time": "2020-10-06T21:18:43.785212Z"
    }
   },
   "outputs": [
    {
     "name": "stdout",
     "output_type": "stream",
     "text": [
      "+---+----------------------+\n",
      "| id|collect_list(owner_id)|\n",
      "+---+----------------------+\n",
      "| 18|  [110949250, 14793...|\n",
      "| 26|  [110949250, 15239...|\n",
      "| 27|  [105839362, 14179...|\n",
      "| 29|  [25646344, 789631...|\n",
      "| 61|  [62516620, 832532...|\n",
      "| 63|  [107298055, 11094...|\n",
      "|125|  [141797323, 52798...|\n",
      "|140|  [25646344, 198263...|\n",
      "|158|  [105839362, 25646...|\n",
      "|298|  [77470563, 156415...|\n",
      "|303|  [134346829, 13374...|\n",
      "|389|  [25646344, 156415...|\n",
      "|397|  [107298055, 52826...|\n",
      "|410|  [25646344, 147936...|\n",
      "|447|  [4403478, 6921930...|\n",
      "|474|  [189933794, 55462...|\n",
      "|533|  [49475876, 122226...|\n",
      "|679|  [3778842, 4672831...|\n",
      "|754|  [76887250, 136754...|\n",
      "|796|  [141797323, 24313...|\n",
      "+---+----------------------+\n",
      "only showing top 20 rows\n",
      "\n"
     ]
    },
    {
     "name": "stderr",
     "output_type": "stream",
     "text": [
      "G:\\soft\\Anaconda\\lib\\site-packages\\pyspark\\sql\\pandas\\conversion.py:88: UserWarning: toPandas attempted Arrow optimization because 'spark.sql.execution.arrow.pyspark.enabled' is set to true; however, failed by the reason below:\n",
      "  PyArrow >= 0.15.1 must be installed; however, it was not found.\n",
      "Attempting non-optimization as 'spark.sql.execution.arrow.pyspark.fallback.enabled' is set to true.\n",
      "  warnings.warn(msg)\n"
     ]
    }
   ],
   "source": [
    "list_of_reposters = reposts_from_group.groupby(\"id\").agg(collect_list(\"owner_id\"))\n",
    "list_of_reposters.show()\n",
    "list_of_reposters.toPandas().to_json(os.path.join(result_dir, 'reposters_list.json'))"
   ]
  },
  {
   "cell_type": "code",
   "execution_count": null,
   "metadata": {},
   "outputs": [],
   "source": []
  }
 ],
 "metadata": {
  "kernelspec": {
   "display_name": "Python 3",
   "language": "python",
   "name": "python3"
  },
  "language_info": {
   "codemirror_mode": {
    "name": "ipython",
    "version": 3
   },
   "file_extension": ".py",
   "mimetype": "text/x-python",
   "name": "python",
   "nbconvert_exporter": "python",
   "pygments_lexer": "ipython3",
   "version": "3.7.3"
  },
  "varInspector": {
   "cols": {
    "lenName": 16,
    "lenType": 16,
    "lenVar": 40
   },
   "kernels_config": {
    "python": {
     "delete_cmd_postfix": "",
     "delete_cmd_prefix": "del ",
     "library": "var_list.py",
     "varRefreshCmd": "print(var_dic_list())"
    },
    "r": {
     "delete_cmd_postfix": ") ",
     "delete_cmd_prefix": "rm(",
     "library": "var_list.r",
     "varRefreshCmd": "cat(var_dic_list()) "
    }
   },
   "types_to_exclude": [
    "module",
    "function",
    "builtin_function_or_method",
    "instance",
    "_Feature"
   ],
   "window_display": false
  }
 },
 "nbformat": 4,
 "nbformat_minor": 2
}
