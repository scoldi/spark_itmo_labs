{
 "cells": [
  {
   "cell_type": "code",
   "execution_count": 6,
   "metadata": {
    "ExecuteTime": {
     "end_time": "2020-10-08T11:43:39.286243Z",
     "start_time": "2020-10-08T11:43:39.283241Z"
    }
   },
   "outputs": [],
   "source": [
    "from pyspark.sql import SparkSession\n",
    "from pyspark.context import SparkContext\n",
    "from pyspark.sql.functions import * \n",
    "from pyspark.sql.types import * \n",
    "import pandas as pd\n",
    "import os"
   ]
  },
  {
   "cell_type": "code",
   "execution_count": 7,
   "metadata": {
    "ExecuteTime": {
     "end_time": "2020-10-08T11:43:39.850494Z",
     "start_time": "2020-10-08T11:43:39.847493Z"
    }
   },
   "outputs": [
    {
     "name": "stdout",
     "output_type": "stream",
     "text": [
      "3.0.1\n"
     ]
    }
   ],
   "source": [
    "import pyspark\n",
    "print(pyspark.__version__)"
   ]
  },
  {
   "cell_type": "code",
   "execution_count": 8,
   "metadata": {
    "ExecuteTime": {
     "end_time": "2020-10-08T11:43:44.760530Z",
     "start_time": "2020-10-08T11:43:41.170484Z"
    }
   },
   "outputs": [],
   "source": [
    "sc = SparkSession.builder.appName(\"PysparkLab1\") \\\n",
    "    .config (\"spark.sql.shuffle.partitions\", \"50\") \\\n",
    "    .config(\"spark.driver.maxResultSize\",\"5g\") \\\n",
    "    .config (\"spark.sql.execution.arrow.enabled\", \"true\") \\\n",
    "    .getOrCreate()"
   ]
  },
  {
   "cell_type": "code",
   "execution_count": 9,
   "metadata": {
    "ExecuteTime": {
     "end_time": "2020-10-08T11:43:56.462109Z",
     "start_time": "2020-10-08T11:43:45.315150Z"
    }
   },
   "outputs": [],
   "source": [
    "data_dir = r\"G:\\Data\\spark_labs\\bigdata20\\bigdata20\\followers_posts_api_final.json\"\n",
    "result_dir = r\"G:\\Data\\spark_labs\\bigdata20\\bigdata20\\results\\task1\"\n",
    "\n",
    "posts1_path = os.path.join(data_dir, '0_39773a62_followers_posts_api_final.json')\n",
    "posts2_path = os.path.join(data_dir, '1_7a8a2098_followers_posts_api_final.json')\n",
    "posts1_df = sc.read.json(posts1_path)\n",
    "posts2_df = sc.read.json(posts2_path)"
   ]
  },
  {
   "cell_type": "code",
   "execution_count": 10,
   "metadata": {
    "ExecuteTime": {
     "end_time": "2020-10-08T11:44:04.903843Z",
     "start_time": "2020-10-08T11:44:03.913140Z"
    }
   },
   "outputs": [
    {
     "name": "stdout",
     "output_type": "stream",
     "text": [
      "+--------------------+------------+------------+---------+----------+----------+-------+----+-----+---------+-----------+-------------+--------+-----------------+---------+-------+---------+--------------------+-----------+-----+\n",
      "|         attachments|    comments|copy_history|copyright|      date|final_post|from_id| geo|   id|is_pinned|        key|        likes|owner_id|      post_source|post_type|reposts|signer_id|                text|unavailable|views|\n",
      "+--------------------+------------+------------+---------+----------+----------+-------+----+-----+---------+-----------+-------------+--------+-----------------+---------+-------+---------+--------------------+-----------+-----+\n",
      "|[[,,,,,,,,,, vide...|[0, 0, true]|        null|     null|1550165023|      null|  87449|null| 3316|     null| 87449_3316| [1, 1, 6, 0]|   87449|[,, iphone, api,]|     post| [0, 0]|     null|Я люблю Вас. Я вч...|       null|[428]|\n",
      "|[[,,,,,, [fe02668...|[0, 0, true]|        null|     null|1553774858|      null|  87449|null| 3318|     null| 87449_3318|[1, 1, 11, 0]|   87449|[,, iphone, api,]|     post| [0, 0]|     null|call me by your n...|       null|[477]|\n",
      "|[[,,,,,, [c25cda8...|[0, 0, true]|        null|     null|1555602008|      null|  87449|null| 3320|     null| 87449_3320|[1, 1, 10, 0]|   87449|[,, iphone, api,]|     post| [0, 0]|     null|                  🦋|       null|[419]|\n",
      "|[[,,,,,,,,,, vide...|[0, 0, true]|        null|     null|1558105050|      null|  87449|null| 3322|     null| 87449_3322| [1, 1, 8, 0]|   87449|[,, iphone, api,]|     post| [1, 0]|     null|         Браво,Юра !|       null|[442]|\n",
      "|[[,,,,,, [7758fb4...|[0, 0, true]|        null|     null|1559301729|      null|  87449|null| 3324|     null| 87449_3324| [1, 1, 8, 0]|   87449|[,, iphone, api,]|     post| [0, 0]|     null|                  🕊|       null|[425]|\n",
      "|[[,,,,,, [666dd69...|[0, 0, true]|        null|     null|1564088944|      null|  87449|null| 3325|     null| 87449_3325|[1, 1, 10, 0]|   87449|[,, iphone, api,]|     post| [0, 0]|     null|Самый неприятный ...|       null|[301]|\n",
      "|[[,,,,,, [06ab977...|[0, 0, true]|        null|     null|1565162341|      null|  87449|null| 3326|     null| 87449_3326| [1, 1, 6, 0]|   87449|[,, iphone, api,]|     post| [0, 0]|     null|                  🔅|       null|[309]|\n",
      "|[[,,,,,, [74fdfc9...|[0, 0, true]|        null|     null|1566293696|      null|  87449|null| 3327|     null| 87449_3327| [1, 1, 9, 0]|   87449|[,, iphone, api,]|     post| [0, 0]|     null|Пекло.Пушка.Вышка...|       null|[366]|\n",
      "|[[,,,,,, [02804b0...|[0, 0, true]|        null|     null|1571221102|      null|  87449|null| 3329|     null| 87449_3329| [1, 1, 0, 0]|   87449|[,, iphone, api,]|     post| [0, 0]|     null|                    |       null|[139]|\n",
      "|[[,,,,,, [a88e65c...|[1, 1, true]|        null|     null|1559647730|      null|  94494|null|11752|     null|94494_11752|[1, 1, 17, 0]|   94494|        [,,, vk,]|     post| [0, 0]|     null|Тот неловкий моме...|       null|[594]|\n",
      "+--------------------+------------+------------+---------+----------+----------+-------+----+-----+---------+-----------+-------------+--------+-----------------+---------+-------+---------+--------------------+-----------+-----+\n",
      "only showing top 10 rows\n",
      "\n"
     ]
    }
   ],
   "source": [
    "posts1_df.show(10)"
   ]
  },
  {
   "cell_type": "code",
   "execution_count": 11,
   "metadata": {
    "ExecuteTime": {
     "end_time": "2020-10-08T11:44:06.664854Z",
     "start_time": "2020-10-08T11:44:06.416695Z"
    }
   },
   "outputs": [],
   "source": [
    "### From the first dataset\n",
    "posts1_df.createOrReplaceTempView(\"df1_view\")\n",
    "top_commented1 = sc.sql(\"select id, comments, likes, text, views, reposts from df1_view ORDER BY comments.count desc LIMIT 20\")\n",
    "top_liked1 = sc.sql(\"select id, comments, likes, text, views, reposts from df1_view ORDER BY likes.count desc LIMIT 20\")\n",
    "top_reposted1 = sc.sql(\"select id, comments, likes, text, views, reposts from df1_view ORDER BY reposts.count desc LIMIT 20\")"
   ]
  },
  {
   "cell_type": "code",
   "execution_count": 12,
   "metadata": {
    "ExecuteTime": {
     "end_time": "2020-10-08T11:44:10.740528Z",
     "start_time": "2020-10-08T11:44:08.132671Z"
    }
   },
   "outputs": [
    {
     "name": "stdout",
     "output_type": "stream",
     "text": [
      "+------+--------------+---------------+--------------------+-------+--------+\n",
      "|    id|      comments|          likes|                text|  views| reposts|\n",
      "+------+--------------+---------------+--------------------+-------+--------+\n",
      "|425873|[1, 271, true]|[1, 1, 3271, 0]|Лайкнувшим отправ...|[30376]|  [6, 0]|\n",
      "|311504|[1, 516, true]|[1, 1, 2160, 0]|                    | [7479]|  [3, 0]|\n",
      "|340354|[1, 429, true]|[1, 1, 2148, 0]|                    |[11353]|  [1, 0]|\n",
      "| 31472|  [0, 0, true]|[1, 1, 2099, 0]|                    | [3271]|  [0, 0]|\n",
      "|428224| [1, 78, true]|[1, 1, 1914, 0]|лайк кого пролайк...|[14640]|  [5, 0]|\n",
      "|322736| [1, 76, true]|[1, 1, 1665, 0]|                🙈🙉|[19461]|  [2, 0]|\n",
      "|  4004|  [0, 0, true]|[1, 1, 1593, 0]|Нашли корги. Бега...|[59135]|[573, 0]|\n",
      "| 32164|  [0, 0, true]|[1, 1, 1574, 0]|                    | [2481]|  [2, 0]|\n",
      "|  5161|  [0, 0, true]|[1, 1, 1494, 0]|Друзья, пора нача...| [2166]|  [0, 0]|\n",
      "|322699| [1, 31, true]|[1, 1, 1410, 0]|Мы всегда остаемс...|[12495]|  [1, 0]|\n",
      "| 31699|  [0, 0, true]|[1, 1, 1384, 0]|                    | [2023]|  [0, 0]|\n",
      "|  5045|  [0, 0, true]|[1, 1, 1324, 0]|                    | [6486]|  [0, 0]|\n",
      "|  4932|  [0, 0, true]|[1, 1, 1215, 0]|                    | [6925]|  [0, 0]|\n",
      "|300551| [1, 30, true]|[1, 1, 1162, 0]|Это естественный ...| [7857]|  [1, 0]|\n",
      "| 31127|  [0, 0, true]|[1, 1, 1148, 0]|                    | [1518]|  [0, 0]|\n",
      "| 31541|  [0, 0, true]|[1, 1, 1148, 0]|ВЕЧНАЯ ПАМЯТЬ... ...| [1924]|  [7, 0]|\n",
      "| 25095| [1, 41, true]|[1, 1, 1066, 0]|Грустно, очень гр...|[23717]| [61, 0]|\n",
      "|  7815|  [1, 0, true]|[1, 1, 1036, 0]|Обожаю Виктора Гю...| [1961]|  [1, 0]|\n",
      "|   906|  [0, 6, true]|[1, 1, 1026, 0]|                    | [1623]|  [0, 0]|\n",
      "|   901| [0, 10, true]|[1, 1, 1025, 0]|                    | [1456]|  [0, 0]|\n",
      "+------+--------------+---------------+--------------------+-------+--------+\n",
      "\n"
     ]
    }
   ],
   "source": [
    "#top_commented1.show(truncate=False)\n",
    "top_liked1.show()"
   ]
  },
  {
   "cell_type": "code",
   "execution_count": 13,
   "metadata": {
    "ExecuteTime": {
     "end_time": "2020-10-08T11:44:12.548098Z",
     "start_time": "2020-10-08T11:44:12.503072Z"
    }
   },
   "outputs": [],
   "source": [
    "### From the second dataset\n",
    "posts2_df.createOrReplaceTempView(\"df2_view\")\n",
    "top_commented2 = sc.sql(\"select id, comments, likes, text, views, reposts from df2_view ORDER BY comments.count desc LIMIT 20\")\n",
    "top_liked2 = sc.sql(\"select id, comments, likes, text, views, reposts from df2_view ORDER BY likes.count desc LIMIT 20\")\n",
    "top_reposted2 = sc.sql(\"select id, comments, likes, text, views, reposts from df2_view ORDER BY reposts.count desc LIMIT 20\")"
   ]
  },
  {
   "cell_type": "code",
   "execution_count": 14,
   "metadata": {
    "ExecuteTime": {
     "end_time": "2020-10-08T11:44:13.437969Z",
     "start_time": "2020-10-08T11:44:13.435966Z"
    }
   },
   "outputs": [],
   "source": [
    "#top_commented2.show()"
   ]
  },
  {
   "cell_type": "code",
   "execution_count": 15,
   "metadata": {
    "ExecuteTime": {
     "end_time": "2020-10-08T11:44:14.232748Z",
     "start_time": "2020-10-08T11:44:14.157682Z"
    }
   },
   "outputs": [],
   "source": [
    "top_commented = top_commented1.union(top_commented2).orderBy('comments.count', ascending=False).limit(20)\n",
    "top_liked = top_liked1.union(top_liked2).orderBy('likes.count', ascending=False).limit(20)\n",
    "top_reposted = top_reposted1.union(top_reposted2).orderBy('reposts.count', ascending=False).limit(20)"
   ]
  },
  {
   "cell_type": "code",
   "execution_count": 16,
   "metadata": {
    "ExecuteTime": {
     "end_time": "2020-10-08T11:44:22.692729Z",
     "start_time": "2020-10-08T11:44:15.370516Z"
    },
    "scrolled": true
   },
   "outputs": [
    {
     "name": "stdout",
     "output_type": "stream",
     "text": [
      "+------+----------------+--------------+--------------------+-------+-------+\n",
      "|    id|        comments|         likes|                text|  views|reposts|\n",
      "+------+----------------+--------------+--------------------+-------+-------+\n",
      "|215530|[1, 18189, true]|[1, 1, 163, 0]|   Гости у bera vine|[10285]| [0, 0]|\n",
      "|118126|[1, 17041, true]|[1, 1, 227, 0]|                Live|[12404]| [1, 0]|\n",
      "|234835|[1, 12841, true]|[1, 1, 231, 0]|       Погнали💥💥💥|[11477]| [2, 0]|\n",
      "|169456|[1, 12240, true]|[1, 1, 135, 0]|          Звоночки💥| [6551]| [0, 0]|\n",
      "| 57446|[1, 11596, true]|[1, 1, 176, 0]|Ребят,как и говор...|[12219]| [1, 0]|\n",
      "|372853|[1, 10812, true]|[1, 1, 384, 0]|   Всем приветик💋🖤|[14391]| [6, 0]|\n",
      "|255172|[1, 10571, true]|[1, 1, 177, 0]|           Погнали☄️| [9523]| [1, 0]|\n",
      "|142040|[1, 10155, true]|[1, 1, 194, 0]| Сегодня будет мощно|[12356]| [0, 0]|\n",
      "|361645| [1, 7982, true]|[1, 1, 300, 0]|В конце будут сиг...| [9352]| [5, 0]|\n",
      "|274765| [1, 7940, true]|[1, 1, 191, 0]|Bera vine в сборе...|[10715]| [2, 0]|\n",
      "|266558| [1, 7892, true]|[1, 1, 171, 0]|      Полетели🔥🔥🔥| [8861]| [0, 0]|\n",
      "|409131| [1, 7292, true]|[1, 1, 272, 0]|Готовим,розыгрыва...|[12587]|[11, 0]|\n",
      "|248206| [1, 6727, true]|[1, 1, 162, 0]|Идем искать и кор...| [7657]| [0, 0]|\n",
      "|344296| [1, 6712, true]|[1, 1, 244, 0]|Красим т.Валю с К...|[14754]| [1, 0]|\n",
      "|418844| [1, 6635, true]|[1, 1, 254, 0]|                Live|[13188]| [6, 0]|\n",
      "|183587| [1, 6535, true]|[1, 1, 117, 0]|        Звонки💥💥💥| [6677]| [0, 0]|\n",
      "|160366| [1, 6262, true]|[1, 1, 128, 0]|Звоним по номерам...| [5902]| [1, 0]|\n",
      "| 84138| [1, 5326, true]|[1, 1, 174, 0]|                Live|[10514]| [3, 0]|\n",
      "|403930| [1, 5164, true]|[1, 1, 281, 0]|ВСЕМ ПРИВЕТ,ГОТОВ...|[15791]| [2, 0]|\n",
      "| 90133| [1, 5129, true]|[1, 1, 172, 0]|           Встречины|[11576]| [0, 0]|\n",
      "+------+----------------+--------------+--------------------+-------+-------+\n",
      "\n"
     ]
    },
    {
     "name": "stderr",
     "output_type": "stream",
     "text": [
      "G:\\soft\\Anaconda\\lib\\site-packages\\pyspark\\sql\\pandas\\conversion.py:88: UserWarning: toPandas attempted Arrow optimization because 'spark.sql.execution.arrow.pyspark.enabled' is set to true; however, failed by the reason below:\n",
      "  PyArrow >= 0.15.1 must be installed; however, it was not found.\n",
      "Attempting non-optimization as 'spark.sql.execution.arrow.pyspark.fallback.enabled' is set to true.\n",
      "  warnings.warn(msg)\n"
     ]
    }
   ],
   "source": [
    "top_commented.show()\n",
    "# top_commented.write.json(os.path.join(result_dir, 'top_commented.json'))\n",
    "top_commented.toPandas().to_json(os.path.join(result_dir, 'top_commented.json'))"
   ]
  },
  {
   "cell_type": "code",
   "execution_count": null,
   "metadata": {
    "ExecuteTime": {
     "end_time": "2020-10-08T11:44:22.711737Z",
     "start_time": "2020-10-08T11:44:20.460Z"
    }
   },
   "outputs": [],
   "source": [
    "top_liked.show()\n",
    "top_liked.toPandas().to_json(os.path.join(result_dir, 'top_liked.json'))"
   ]
  },
  {
   "cell_type": "code",
   "execution_count": null,
   "metadata": {
    "ExecuteTime": {
     "end_time": "2020-10-08T11:44:22.713742Z",
     "start_time": "2020-10-08T11:44:21.244Z"
    }
   },
   "outputs": [],
   "source": [
    "top_reposted.show()\n",
    "top_reposted.toPandas().to_json(os.path.join(result_dir, 'top_reposted.json'))"
   ]
  },
  {
   "cell_type": "code",
   "execution_count": null,
   "metadata": {},
   "outputs": [],
   "source": []
  },
  {
   "cell_type": "code",
   "execution_count": null,
   "metadata": {},
   "outputs": [],
   "source": [
    "# from pyspark.sql.types import IntegerType\n",
    "# comments_num_udf = udf(lambda row: int(row['count']), IntegerType())\n",
    "# posts1_df = posts1_df.withColumn('comments_count', lit(comments_num_udf('comments')))\n",
    "# posts1_df['comments_count']"
   ]
  },
  {
   "cell_type": "code",
   "execution_count": null,
   "metadata": {},
   "outputs": [],
   "source": [
    "#posts1_df.createOrReplaceTempView(\"temp\")\n",
    "#sc.sql(\"select comments from temp ORDER BY comments desc\").show(truncate=False)"
   ]
  },
  {
   "cell_type": "code",
   "execution_count": null,
   "metadata": {},
   "outputs": [],
   "source": [
    "#rddjson = sc.parallelize([simple_json])\n",
    "#df = sqlContext.read.json(rddjson)"
   ]
  }
 ],
 "metadata": {
  "kernelspec": {
   "display_name": "Python 3",
   "language": "python",
   "name": "python3"
  },
  "language_info": {
   "codemirror_mode": {
    "name": "ipython",
    "version": 3
   },
   "file_extension": ".py",
   "mimetype": "text/x-python",
   "name": "python",
   "nbconvert_exporter": "python",
   "pygments_lexer": "ipython3",
   "version": "3.7.3"
  },
  "varInspector": {
   "cols": {
    "lenName": 16,
    "lenType": 16,
    "lenVar": 40
   },
   "kernels_config": {
    "python": {
     "delete_cmd_postfix": "",
     "delete_cmd_prefix": "del ",
     "library": "var_list.py",
     "varRefreshCmd": "print(var_dic_list())"
    },
    "r": {
     "delete_cmd_postfix": ") ",
     "delete_cmd_prefix": "rm(",
     "library": "var_list.r",
     "varRefreshCmd": "cat(var_dic_list()) "
    }
   },
   "types_to_exclude": [
    "module",
    "function",
    "builtin_function_or_method",
    "instance",
    "_Feature"
   ],
   "window_display": false
  }
 },
 "nbformat": 4,
 "nbformat_minor": 2
}
