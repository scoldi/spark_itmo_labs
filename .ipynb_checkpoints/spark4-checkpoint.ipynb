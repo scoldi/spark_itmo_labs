{
 "cells": [
  {
   "cell_type": "code",
   "execution_count": 19,
   "metadata": {
    "ExecuteTime": {
     "end_time": "2020-10-08T11:29:15.087742Z",
     "start_time": "2020-10-08T11:29:15.084724Z"
    }
   },
   "outputs": [],
   "source": [
    "from pyspark.sql import SparkSession\n",
    "from pyspark.context import SparkContext\n",
    "from pyspark.sql.functions import * \n",
    "from pyspark.sql.types import * \n",
    "import pandas as pd\n",
    "import os"
   ]
  },
  {
   "cell_type": "code",
   "execution_count": 20,
   "metadata": {
    "ExecuteTime": {
     "end_time": "2020-10-08T11:29:15.780410Z",
     "start_time": "2020-10-08T11:29:15.775405Z"
    }
   },
   "outputs": [],
   "source": [
    "sc = SparkSession.builder.appName(\"PysparkLab4\") \\\n",
    "    .config (\"spark.sql.shuffle.partitions\", \"20\") \\\n",
    "    .config (\"spark.default.parallelism\", \"20\") \\\n",
    "    .config(\"spark.driver.maxResultSize\",\"5g\") \\\n",
    "    .config (\"spark.sql.execution.arrow.enabled\", \"true\") \\\n",
    "    .getOrCreate()"
   ]
  },
  {
   "cell_type": "code",
   "execution_count": 21,
   "metadata": {
    "ExecuteTime": {
     "end_time": "2020-10-08T11:29:22.676420Z",
     "start_time": "2020-10-08T11:29:17.171489Z"
    }
   },
   "outputs": [],
   "source": [
    "posts_data_dir = r\"G:\\Data\\spark_labs\\bigdata20\\bigdata20\\followers_posts_api_final.json\"\n",
    "result_dir = r\"G:\\Data\\spark_labs\\bigdata20\\bigdata20\\results\\task4\"\n",
    "\n",
    "posts1_path = os.path.join(posts_data_dir, '0_39773a62_followers_posts_api_final.json')\n",
    "posts2_path = os.path.join(posts_data_dir, '1_7a8a2098_followers_posts_api_final.json')\n",
    "\n",
    "posts1_df = sc.read.json(posts1_path)\n",
    "posts2_df = sc.read.json(posts2_path)\n",
    "\n",
    "posts1_df = posts1_df.filter(posts1_df.post_type == \"post\")\n",
    "posts2_df = posts2_df.filter(posts2_df.post_type == \"post\")"
   ]
  },
  {
   "cell_type": "code",
   "execution_count": 22,
   "metadata": {
    "ExecuteTime": {
     "end_time": "2020-10-08T11:29:23.600163Z",
     "start_time": "2020-10-08T11:29:23.591156Z"
    }
   },
   "outputs": [
    {
     "data": {
      "text/plain": [
       "['attachments',\n",
       " 'comments',\n",
       " 'copy_history',\n",
       " 'copyright',\n",
       " 'date',\n",
       " 'final_post',\n",
       " 'from_id',\n",
       " 'geo',\n",
       " 'id',\n",
       " 'is_pinned',\n",
       " 'key',\n",
       " 'likes',\n",
       " 'owner_id',\n",
       " 'post_source',\n",
       " 'post_type',\n",
       " 'reposts',\n",
       " 'signer_id',\n",
       " 'text',\n",
       " 'unavailable',\n",
       " 'views']"
      ]
     },
     "execution_count": 22,
     "metadata": {},
     "output_type": "execute_result"
    }
   ],
   "source": [
    "posts1_df.columns"
   ]
  },
  {
   "cell_type": "code",
   "execution_count": 23,
   "metadata": {
    "ExecuteTime": {
     "end_time": "2020-10-08T11:29:24.235355Z",
     "start_time": "2020-10-08T11:29:24.219344Z"
    }
   },
   "outputs": [
    {
     "data": {
      "text/html": [
       "<div>\n",
       "<style scoped>\n",
       "    .dataframe tbody tr th:only-of-type {\n",
       "        vertical-align: middle;\n",
       "    }\n",
       "\n",
       "    .dataframe tbody tr th {\n",
       "        vertical-align: top;\n",
       "    }\n",
       "\n",
       "    .dataframe thead th {\n",
       "        text-align: right;\n",
       "    }\n",
       "</style>\n",
       "<table border=\"1\" class=\"dataframe\">\n",
       "  <thead>\n",
       "    <tr style=\"text-align: right;\">\n",
       "      <th></th>\n",
       "      <th>Emoji</th>\n",
       "      <th>Unicode codepoint</th>\n",
       "      <th>Occurrences</th>\n",
       "      <th>Position</th>\n",
       "      <th>Negative</th>\n",
       "      <th>Neutral</th>\n",
       "      <th>Positive</th>\n",
       "      <th>Unicode name</th>\n",
       "      <th>Unicode block</th>\n",
       "    </tr>\n",
       "  </thead>\n",
       "  <tbody>\n",
       "    <tr>\n",
       "      <th>0</th>\n",
       "      <td>😂</td>\n",
       "      <td>0x1f602</td>\n",
       "      <td>14622</td>\n",
       "      <td>0.805101</td>\n",
       "      <td>3614</td>\n",
       "      <td>4163</td>\n",
       "      <td>6845</td>\n",
       "      <td>FACE WITH TEARS OF JOY</td>\n",
       "      <td>Emoticons</td>\n",
       "    </tr>\n",
       "    <tr>\n",
       "      <th>1</th>\n",
       "      <td>❤</td>\n",
       "      <td>0x2764</td>\n",
       "      <td>8050</td>\n",
       "      <td>0.746943</td>\n",
       "      <td>355</td>\n",
       "      <td>1334</td>\n",
       "      <td>6361</td>\n",
       "      <td>HEAVY BLACK HEART</td>\n",
       "      <td>Dingbats</td>\n",
       "    </tr>\n",
       "    <tr>\n",
       "      <th>2</th>\n",
       "      <td>♥</td>\n",
       "      <td>0x2665</td>\n",
       "      <td>7144</td>\n",
       "      <td>0.753806</td>\n",
       "      <td>252</td>\n",
       "      <td>1942</td>\n",
       "      <td>4950</td>\n",
       "      <td>BLACK HEART SUIT</td>\n",
       "      <td>Miscellaneous Symbols</td>\n",
       "    </tr>\n",
       "    <tr>\n",
       "      <th>3</th>\n",
       "      <td>😍</td>\n",
       "      <td>0x1f60d</td>\n",
       "      <td>6359</td>\n",
       "      <td>0.765292</td>\n",
       "      <td>329</td>\n",
       "      <td>1390</td>\n",
       "      <td>4640</td>\n",
       "      <td>SMILING FACE WITH HEART-SHAPED EYES</td>\n",
       "      <td>Emoticons</td>\n",
       "    </tr>\n",
       "    <tr>\n",
       "      <th>4</th>\n",
       "      <td>😭</td>\n",
       "      <td>0x1f62d</td>\n",
       "      <td>5526</td>\n",
       "      <td>0.803352</td>\n",
       "      <td>2412</td>\n",
       "      <td>1218</td>\n",
       "      <td>1896</td>\n",
       "      <td>LOUDLY CRYING FACE</td>\n",
       "      <td>Emoticons</td>\n",
       "    </tr>\n",
       "  </tbody>\n",
       "</table>\n",
       "</div>"
      ],
      "text/plain": [
       "  Emoji Unicode codepoint  Occurrences  Position  Negative  Neutral  Positive  \\\n",
       "0     😂           0x1f602        14622  0.805101      3614     4163      6845   \n",
       "1     ❤            0x2764         8050  0.746943       355     1334      6361   \n",
       "2     ♥            0x2665         7144  0.753806       252     1942      4950   \n",
       "3     😍           0x1f60d         6359  0.765292       329     1390      4640   \n",
       "4     😭           0x1f62d         5526  0.803352      2412     1218      1896   \n",
       "\n",
       "                          Unicode name          Unicode block  \n",
       "0               FACE WITH TEARS OF JOY              Emoticons  \n",
       "1                    HEAVY BLACK HEART               Dingbats  \n",
       "2                     BLACK HEART SUIT  Miscellaneous Symbols  \n",
       "3  SMILING FACE WITH HEART-SHAPED EYES              Emoticons  \n",
       "4                   LOUDLY CRYING FACE              Emoticons  "
      ]
     },
     "execution_count": 23,
     "metadata": {},
     "output_type": "execute_result"
    }
   ],
   "source": [
    "# https://www.kaggle.com/thomasseleck/emoji-sentiment-data\n",
    "emoji_data = pd.read_csv(r'G:/Data/Emoji_Sentiment_Data_v1.0.csv')\n",
    "emoji_data.head()"
   ]
  },
  {
   "cell_type": "code",
   "execution_count": 24,
   "metadata": {
    "ExecuteTime": {
     "end_time": "2020-10-08T11:29:24.967851Z",
     "start_time": "2020-10-08T11:29:24.959861Z"
    }
   },
   "outputs": [],
   "source": [
    "# top 20 \"positive\" emojis\n",
    "positive_emojis = emoji_data[(emoji_data['Positive'] > emoji_data['Neutral']) & (emoji_data['Positive'] > emoji_data['Negative'])].head(20)['Emoji'].tolist()\n",
    "\n",
    "# top 20 \"negative\" emojis\n",
    "negative_emojis = emoji_data[(emoji_data['Negative'] > emoji_data['Neutral']) & (emoji_data['Negative'] > emoji_data['Positive'])].head(20)['Emoji'].tolist()"
   ]
  },
  {
   "cell_type": "code",
   "execution_count": 35,
   "metadata": {
    "ExecuteTime": {
     "end_time": "2020-10-08T11:37:12.113437Z",
     "start_time": "2020-10-08T11:37:12.109419Z"
    }
   },
   "outputs": [
    {
     "data": {
      "text/plain": [
       "['😂',\n",
       " '❤',\n",
       " '♥',\n",
       " '😍',\n",
       " '😘',\n",
       " '😊',\n",
       " '👌',\n",
       " '💕',\n",
       " '👏',\n",
       " '😁',\n",
       " '☺',\n",
       " '♡',\n",
       " '👍',\n",
       " '🙏',\n",
       " '✌',\n",
       " '😉',\n",
       " '🙌',\n",
       " '🙈',\n",
       " '💪',\n",
       " '😄']"
      ]
     },
     "execution_count": 35,
     "metadata": {},
     "output_type": "execute_result"
    }
   ],
   "source": [
    "positive_emojis"
   ]
  },
  {
   "cell_type": "code",
   "execution_count": 36,
   "metadata": {
    "ExecuteTime": {
     "end_time": "2020-10-08T11:37:16.510019Z",
     "start_time": "2020-10-08T11:37:16.507018Z"
    }
   },
   "outputs": [
    {
     "data": {
      "text/plain": [
       "['😭',\n",
       " '😩',\n",
       " '😒',\n",
       " '😔',\n",
       " '😡',\n",
       " '😴',\n",
       " '🔫',\n",
       " '😞',\n",
       " '😪',\n",
       " '😫',\n",
       " '💀',\n",
       " '😕',\n",
       " '💔',\n",
       " '😤',\n",
       " '😰',\n",
       " '😑',\n",
       " '😠',\n",
       " '😓',\n",
       " '😣',\n",
       " '😐']"
      ]
     },
     "execution_count": 36,
     "metadata": {},
     "output_type": "execute_result"
    }
   ],
   "source": [
    "negative_emojis"
   ]
  },
  {
   "cell_type": "code",
   "execution_count": 25,
   "metadata": {
    "ExecuteTime": {
     "end_time": "2020-10-08T11:29:25.695423Z",
     "start_time": "2020-10-08T11:29:25.691420Z"
    }
   },
   "outputs": [],
   "source": [
    "from pyspark.sql.types import StringType\n",
    "import emoji\n",
    "# posts1_df = posts1_df.withColumn('comments_count', lit(comments_num_udf('comments')))\n",
    "# posts1_df['comments_count']\n",
    "\n",
    "def count_emojis_positive(text):\n",
    "    emojis = [c for c in text if c in positive_emojis]\n",
    "    return len(emojis)\n",
    "        \n",
    "def count_emojis_negative(text):\n",
    "    emojis = [c for c in text if c in negative_emojis]\n",
    "    return len(emojis)\n",
    "    \n",
    "positive_num_udf = udf(count_emojis_positive, IntegerType())\n",
    "negative_num_udf = udf(count_emojis_negative, IntegerType())"
   ]
  },
  {
   "cell_type": "code",
   "execution_count": 26,
   "metadata": {
    "ExecuteTime": {
     "end_time": "2020-10-08T11:29:28.594193Z",
     "start_time": "2020-10-08T11:29:28.503113Z"
    }
   },
   "outputs": [],
   "source": [
    "### \n",
    "posts1_df = posts1_df.withColumn('positive_emojis_count', positive_num_udf('text'))\n",
    "posts1_df = posts1_df.withColumn('negative_emojis_count', negative_num_udf('text'))\n",
    "\n",
    "posts2_df = posts2_df.withColumn('positive_emojis_count', positive_num_udf('text'))\n",
    "posts2_df = posts2_df.withColumn('negative_emojis_count', negative_num_udf('text'))"
   ]
  },
  {
   "cell_type": "code",
   "execution_count": 27,
   "metadata": {
    "ExecuteTime": {
     "end_time": "2020-10-08T11:29:29.387879Z",
     "start_time": "2020-10-08T11:29:29.329801Z"
    }
   },
   "outputs": [],
   "source": [
    "### apply functions \n",
    "posts1_df.createOrReplaceTempView(\"df1_view\")\n",
    "posts2_df.createOrReplaceTempView(\"df2_view\")\n",
    "positive_count = sc.sql(\"\"\"select text, id, positive_emojis_count, negative_emojis_count \n",
    "                            from df1_view \n",
    "                            UNION ALL \n",
    "                            select text, id, positive_emojis_count, negative_emojis_count \n",
    "                            from df2_view\n",
    "                            ORDER BY positive_emojis_count desc\n",
    "                            LIMIT 20\n",
    "                            \"\"\")"
   ]
  },
  {
   "cell_type": "code",
   "execution_count": 28,
   "metadata": {
    "ExecuteTime": {
     "end_time": "2020-10-08T11:30:13.616051Z",
     "start_time": "2020-10-08T11:29:33.654509Z"
    }
   },
   "outputs": [
    {
     "name": "stdout",
     "output_type": "stream",
     "text": [
      "+--------------------+------+---------------------+---------------------+\n",
      "|                text|    id|positive_emojis_count|negative_emojis_count|\n",
      "+--------------------+------+---------------------+---------------------+\n",
      "|❤️❤️❤️❤️❤️❤️❤️❤️❤...| 12192|                  124|                    0|\n",
      "|аск\n",
      "1).На два😂 М...|137162|                  121|                    8|\n",
      "|аск\n",
      "1).Пюрешкой, ...|137951|                  116|                    5|\n",
      "|аск\n",
      "1).Я про то, ...|140335|                  113|                    2|\n",
      "|аск\n",
      "1).Весь инбок...|136714|                  110|                    0|\n",
      "|аск\n",
      "1).Ты любишь ...|138511|                  107|                    0|\n",
      "|Я хочу чтобы ты т...| 52635|                  103|                    0|\n",
      "|аск\n",
      "1).😱😱😱😱\n",
      "б...|145395|                  103|                    0|\n",
      "|аск\n",
      "1).когда лети...|146864|                   99|                   14|\n",
      "|аск\n",
      "1).В коллаже?...|145529|                   95|                    4|\n",
      "|аск\n",
      "1).А в скольк...|142020|                   95|                    1|\n",
      "|аск\n",
      "1).Артура пос...|140663|                   94|                    0|\n",
      "|Так уж и быть,😏?...|  6185|                   89|                    2|\n",
      "|аск\n",
      "1).!! Artemy ...|136561|                   89|                    2|\n",
      "|аск\n",
      "1).+1, любима...|138369|                   87|                    1|\n",
      "|аск\n",
      "1).Привет! И ...|142183|                   86|                    1|\n",
      "|аск\n",
      "1).когда день...|147161|                   80|                    3|\n",
      "|аск\n",
      "1).+1❤ Яна До...|140796|                   75|                    0|\n",
      "|аск\n",
      "1).+1💕 mezen...|137780|                   72|                    0|\n",
      "|аск\n",
      "1).Дети, соба...|140195|                   71|                    0|\n",
      "+--------------------+------+---------------------+---------------------+\n",
      "\n"
     ]
    },
    {
     "name": "stderr",
     "output_type": "stream",
     "text": [
      "G:\\soft\\Anaconda\\lib\\site-packages\\pyspark\\sql\\pandas\\conversion.py:88: UserWarning: toPandas attempted Arrow optimization because 'spark.sql.execution.arrow.pyspark.enabled' is set to true; however, failed by the reason below:\n",
      "  PyArrow >= 0.15.1 must be installed; however, it was not found.\n",
      "Attempting non-optimization as 'spark.sql.execution.arrow.pyspark.fallback.enabled' is set to true.\n",
      "  warnings.warn(msg)\n"
     ]
    }
   ],
   "source": [
    "positive_count.show()\n",
    "positive_count.toPandas().to_json(os.path.join(result_dir, 'positive_count.json'))"
   ]
  },
  {
   "cell_type": "code",
   "execution_count": 29,
   "metadata": {
    "ExecuteTime": {
     "end_time": "2020-10-08T11:31:13.051579Z",
     "start_time": "2020-10-08T11:31:13.040586Z"
    }
   },
   "outputs": [],
   "source": [
    "negative_count = sc.sql(\"\"\"select text, id, positive_emojis_count, negative_emojis_count \n",
    "                            from df1_view \n",
    "                            UNION ALL \n",
    "                            select text, id, positive_emojis_count, negative_emojis_count \n",
    "                            from df2_view\n",
    "                            ORDER BY negative_emojis_count desc\n",
    "                            LIMIT 20\n",
    "                            \"\"\")"
   ]
  },
  {
   "cell_type": "code",
   "execution_count": 30,
   "metadata": {
    "ExecuteTime": {
     "end_time": "2020-10-08T11:31:55.126794Z",
     "start_time": "2020-10-08T11:31:15.694776Z"
    }
   },
   "outputs": [
    {
     "name": "stdout",
     "output_type": "stream",
     "text": [
      "+--------------------+------+---------------------+---------------------+\n",
      "|                text|    id|positive_emojis_count|negative_emojis_count|\n",
      "+--------------------+------+---------------------+---------------------+\n",
      "|Завтра утром эта ...|  1068|                    1|                   31|\n",
      "|аск\n",
      "1).Так завидо...|141573|                   66|                   20|\n",
      "|РОВНО МЕСЯЦ ДО ЭК...|  2276|                    0|                   16|\n",
      "|аск\n",
      "1).когда лети...|146864|                   99|                   14|\n",
      "|Ребят, вы совсем ...|  2477|                   16|                   13|\n",
      "|каждый день в шко...|  2613|                    0|                   12|\n",
      "|Некоторые люди не...| 12085|                    6|                   12|\n",
      "|Вот реально, что ...|   572|                    0|                   12|\n",
      "|Znachit tak! 😝😝...| 21731|                    5|                   11|\n",
      "|😱😭😭😭😭😭😭😭?...| 43355|                    0|                   11|\n",
      "|МАМ СМОТРИ, ЭТО С...|    40|                    2|                   10|\n",
      "|Поэт, чьё творчес...|  2760|                    0|                   10|\n",
      "|аск\n",
      "1).100%Добра♥...|147008|                   70|                    8|\n",
      "|аск\n",
      "1).На два😂 М...|137162|                  121|                    8|\n",
      "|Сегодня ровно 2 г...|   776|                    0|                    7|\n",
      "|аск\n",
      "1).Почему ты ...|146600|                   63|                    7|\n",
      "|      😔😔😔😔😔😔😔|  5087|                    0|                    7|\n",
      "|Humans kill every...|   147|                    0|                    6|\n",
      "|лето.ура😐😐😑😐😐😐|   369|                    0|                    6|\n",
      "|        😭😭😭😭😭😭|  1551|                    0|                    6|\n",
      "+--------------------+------+---------------------+---------------------+\n",
      "\n"
     ]
    },
    {
     "name": "stderr",
     "output_type": "stream",
     "text": [
      "G:\\soft\\Anaconda\\lib\\site-packages\\pyspark\\sql\\pandas\\conversion.py:88: UserWarning: toPandas attempted Arrow optimization because 'spark.sql.execution.arrow.pyspark.enabled' is set to true; however, failed by the reason below:\n",
      "  PyArrow >= 0.15.1 must be installed; however, it was not found.\n",
      "Attempting non-optimization as 'spark.sql.execution.arrow.pyspark.fallback.enabled' is set to true.\n",
      "  warnings.warn(msg)\n"
     ]
    }
   ],
   "source": [
    "negative_count.show()\n",
    "negative_count.toPandas().to_json(os.path.join(result_dir, 'negative_count.json'))"
   ]
  },
  {
   "cell_type": "code",
   "execution_count": null,
   "metadata": {},
   "outputs": [],
   "source": []
  }
 ],
 "metadata": {
  "kernelspec": {
   "display_name": "Python 3",
   "language": "python",
   "name": "python3"
  },
  "language_info": {
   "codemirror_mode": {
    "name": "ipython",
    "version": 3
   },
   "file_extension": ".py",
   "mimetype": "text/x-python",
   "name": "python",
   "nbconvert_exporter": "python",
   "pygments_lexer": "ipython3",
   "version": "3.7.3"
  },
  "varInspector": {
   "cols": {
    "lenName": 16,
    "lenType": 16,
    "lenVar": 40
   },
   "kernels_config": {
    "python": {
     "delete_cmd_postfix": "",
     "delete_cmd_prefix": "del ",
     "library": "var_list.py",
     "varRefreshCmd": "print(var_dic_list())"
    },
    "r": {
     "delete_cmd_postfix": ") ",
     "delete_cmd_prefix": "rm(",
     "library": "var_list.r",
     "varRefreshCmd": "cat(var_dic_list()) "
    }
   },
   "types_to_exclude": [
    "module",
    "function",
    "builtin_function_or_method",
    "instance",
    "_Feature"
   ],
   "window_display": false
  }
 },
 "nbformat": 4,
 "nbformat_minor": 2
}
