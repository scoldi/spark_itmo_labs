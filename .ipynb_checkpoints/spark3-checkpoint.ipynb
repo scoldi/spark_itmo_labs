{
 "cells": [
  {
   "cell_type": "code",
   "execution_count": 45,
   "metadata": {
    "ExecuteTime": {
     "end_time": "2020-10-06T21:17:23.293304Z",
     "start_time": "2020-10-06T21:17:23.290298Z"
    }
   },
   "outputs": [],
   "source": [
    "from pyspark.sql import SparkSession\n",
    "from pyspark.context import SparkContext\n",
    "from pyspark.sql.functions import * \n",
    "from pyspark.sql.types import * \n",
    "import pandas as pd\n",
    "import os"
   ]
  },
  {
   "cell_type": "code",
   "execution_count": 46,
   "metadata": {
    "ExecuteTime": {
     "end_time": "2020-10-06T21:17:23.585085Z",
     "start_time": "2020-10-06T21:17:23.579066Z"
    }
   },
   "outputs": [],
   "source": [
    "sc = SparkSession.builder.appName(\"PysparkLab3\") \\\n",
    "    .config (\"spark.sql.shuffle.partitions\", \"50\") \\\n",
    "    .config(\"spark.driver.maxResultSize\",\"5g\") \\\n",
    "    .config (\"spark.sql.execution.arrow.enabled\", \"true\") \\\n",
    "    .getOrCreate()"
   ]
  },
  {
   "cell_type": "code",
   "execution_count": 47,
   "metadata": {
    "ExecuteTime": {
     "end_time": "2020-10-06T21:17:30.670907Z",
     "start_time": "2020-10-06T21:17:23.910100Z"
    }
   },
   "outputs": [],
   "source": [
    "posts_data_dir = r\"G:\\Data\\spark_labs\\bigdata20\\bigdata20\\followers_posts_api_final.json\"\n",
    "group_posts_data_dir = r\"G:\\Data\\spark_labs\\bigdata20\\bigdata20\\posts_api.json\"\n",
    "result_dir = r\"G:\\Data\\spark_labs\\bigdata20\\bigdata20\\results\\task3\"\n",
    "\n",
    "posts1_path = os.path.join(posts_data_dir, '0_39773a62_followers_posts_api_final.json')\n",
    "posts2_path = os.path.join(posts_data_dir, '1_7a8a2098_followers_posts_api_final.json')\n",
    "group_posts_path = os.path.join(group_posts_data_dir, '0_a99c9b7e_posts_api.json')\n",
    "posts1_df = sc.read.json(posts1_path)\n",
    "posts2_df = sc.read.json(posts2_path)\n",
    "group_posts_df = sc.read.json(group_posts_path)"
   ]
  },
  {
   "cell_type": "code",
   "execution_count": 48,
   "metadata": {
    "ExecuteTime": {
     "end_time": "2020-10-06T21:17:31.548079Z",
     "start_time": "2020-10-06T21:17:31.415987Z"
    }
   },
   "outputs": [
    {
     "name": "stdout",
     "output_type": "stream",
     "text": [
      "+--------------------+-------------+--------------------+---------+----------+-------+----+-----+---------+-------------+-------------+--------+---------------+---------+-------+---------+--------------------+-----------+-----+\n",
      "|         attachments|     comments|        copy_history|copyright|      date|from_id| geo|   id|      key|        likes|marked_as_ads|owner_id|    post_source|post_type|reposts|signer_id|                text|unavailable|views|\n",
      "+--------------------+-------------+--------------------+---------+----------+-------+----+-----+---------+-------------+-------------+--------+---------------+---------+-------+---------+--------------------+-----------+-----+\n",
      "|                null| [1, 0, true]|[[[[,,,,,,,, vide...|     null|1418838050|    -94|null|17274|-94_17274|[1, 1, 12, 0]|            0|     -94|[, iphone, api]|     post| [5, 0]|     null|                    |       null| null|\n",
      "|[[,,,,, [791d86f8...| [1, 0, true]|                null|     null|1418812223|    -94|null|17273|-94_17273| [1, 1, 7, 0]|            0|     -94|        [,, vk]|     post| [3, 0]|     null|[Технологические ...|       null| null|\n",
      "|                null| [1, 0, true]|[[[[,,,,, [8e440c...|     null|1418932825|    -94|null|17313|-94_17313|[1, 1, 14, 0]|            0|     -94|        [,, vk]|     post| [4, 0]|     null|                    |       null| null|\n",
      "|[[,,,,, [912f07ff...| [1, 0, true]|                null|     null|1418929134|    -94|null|17301|-94_17301|[1, 1, 30, 0]|            0|     -94|        [,, vk]|     post|[17, 0]|     null|Дорогие друзья, м...|       null| null|\n",
      "|[[,,,,, [48de0a72...| [1, 2, true]|                null|     null|1418922045|    -94|null|17295|-94_17295|[1, 1, 10, 0]|            0|     -94|        [,, vk]|     post| [0, 0]|     null|[Первый выпуск Мо...|       null| null|\n",
      "|[[,,,,, [01786517...| [1, 3, true]|                null|     null|1418906160|    -94|null|17293|-94_17293|[1, 1, 51, 0]|            0|     -94|        [,, vk]|     post| [9, 0]|     null|[Александр Ишевск...|       null| null|\n",
      "|[[,,,,, [108e8d38...|[1, 27, true]|                null|     null|1418893664|    -94|null|17277|-94_17277|[1, 1, 16, 0]|            0|     -94|        [,, vk]|     post| [0, 0]|     null|Для желающих увид...|       null| null|\n",
      "|[[,,,,, [c243da0b...| [1, 0, true]|                null|     null|1418889630|    -94|null|17276|-94_17276| [1, 1, 4, 0]|            0|     -94|        [,, vk]|     post| [0, 0]|     null|[Профессоры Пауль...|       null| null|\n",
      "|[[,,,,, [f5a66423...|[1, 23, true]|                null|     null|1418997628|    -94|null|17326|-94_17326|[1, 1, 68, 0]|            0|     -94|        [,, vk]|     post|[34, 0]|     null|Подготовка к праз...|       null| null|\n",
      "|[[,,,,, [b9c7483c...| [1, 0, true]|                null|     null|1418993264|    -94|null|17323|-94_17323| [1, 1, 1, 0]|            0|     -94|        [,, vk]|     post| [1, 0]|     null|[Татьяна Богомазо...|       null| null|\n",
      "+--------------------+-------------+--------------------+---------+----------+-------+----+-----+---------+-------------+-------------+--------+---------------+---------+-------+---------+--------------------+-----------+-----+\n",
      "only showing top 10 rows\n",
      "\n"
     ]
    }
   ],
   "source": [
    "group_posts_df.show(10)"
   ]
  },
  {
   "cell_type": "code",
   "execution_count": 49,
   "metadata": {
    "ExecuteTime": {
     "end_time": "2020-10-06T21:18:12.774514Z",
     "start_time": "2020-10-06T21:18:12.649425Z"
    }
   },
   "outputs": [
    {
     "name": "stdout",
     "output_type": "stream",
     "text": [
      "+--------------------+-------------+--------------------+---------+----------+----------+-------+----+-----+---------+-----------+-------------+--------+------------------+---------+-------+---------+--------------------+-----------+-----+\n",
      "|         attachments|     comments|        copy_history|copyright|      date|final_post|from_id| geo|   id|is_pinned|        key|        likes|owner_id|       post_source|post_type|reposts|signer_id|                text|unavailable|views|\n",
      "+--------------------+-------------+--------------------+---------+----------+----------+-------+----+-----+---------+-----------+-------------+--------+------------------+---------+-------+---------+--------------------+-----------+-----+\n",
      "|[[,,,,,,,,,, vide...| [0, 0, true]|                null|     null|1550165023|      null|  87449|null| 3316|     null| 87449_3316| [1, 1, 6, 0]|   87449| [,, iphone, api,]|     post| [0, 0]|     null|Я люблю Вас. Я вч...|       null|[428]|\n",
      "|[[,,,,,, [fe02668...| [0, 0, true]|                null|     null|1553774858|      null|  87449|null| 3318|     null| 87449_3318|[1, 1, 11, 0]|   87449| [,, iphone, api,]|     post| [0, 0]|     null|call me by your n...|       null|[477]|\n",
      "|[[,,,,,, [c25cda8...| [0, 0, true]|                null|     null|1555602008|      null|  87449|null| 3320|     null| 87449_3320|[1, 1, 10, 0]|   87449| [,, iphone, api,]|     post| [0, 0]|     null|                  🦋|       null|[419]|\n",
      "|[[,,,,,,,,,, vide...| [0, 0, true]|                null|     null|1558105050|      null|  87449|null| 3322|     null| 87449_3322| [1, 1, 8, 0]|   87449| [,, iphone, api,]|     post| [1, 0]|     null|         Браво,Юра !|       null|[442]|\n",
      "|[[,,,,,, [7758fb4...| [0, 0, true]|                null|     null|1559301729|      null|  87449|null| 3324|     null| 87449_3324| [1, 1, 8, 0]|   87449| [,, iphone, api,]|     post| [0, 0]|     null|                  🕊|       null|[425]|\n",
      "|[[,,,,,, [666dd69...| [0, 0, true]|                null|     null|1564088944|      null|  87449|null| 3325|     null| 87449_3325|[1, 1, 10, 0]|   87449| [,, iphone, api,]|     post| [0, 0]|     null|Самый неприятный ...|       null|[301]|\n",
      "|[[,,,,,, [06ab977...| [0, 0, true]|                null|     null|1565162341|      null|  87449|null| 3326|     null| 87449_3326| [1, 1, 6, 0]|   87449| [,, iphone, api,]|     post| [0, 0]|     null|                  🔅|       null|[309]|\n",
      "|[[,,,,,, [74fdfc9...| [0, 0, true]|                null|     null|1566293696|      null|  87449|null| 3327|     null| 87449_3327| [1, 1, 9, 0]|   87449| [,, iphone, api,]|     post| [0, 0]|     null|Пекло.Пушка.Вышка...|       null|[366]|\n",
      "|[[,,,,,, [02804b0...| [0, 0, true]|                null|     null|1571221102|      null|  87449|null| 3329|     null| 87449_3329| [1, 1, 0, 0]|   87449| [,, iphone, api,]|     post| [0, 0]|     null|                    |       null|[139]|\n",
      "|[[,,,,,, [a88e65c...| [1, 1, true]|                null|     null|1559647730|      null|  94494|null|11752|     null|94494_11752|[1, 1, 17, 0]|   94494|         [,,, vk,]|     post| [0, 0]|     null|Тот неловкий моме...|       null|[594]|\n",
      "|[[,,,,,, [97b07ec...| [1, 2, true]|                null|     null|1559854126|      null|  94494|null|11754|     null|94494_11754|[1, 1, 12, 0]|   94494|[,, android, api,]|     post| [0, 0]|     null|Белые ночи + жарк...|       null|[655]|\n",
      "|[[,,,,,, [61d64a1...| [1, 3, true]|                null|     null|1560680534|      null|  94494|null|11757|     null|94494_11757|[1, 1, 26, 0]|   94494|[,, android, api,]|     post| [0, 0]|     null|Не велосипедом ед...|       null|[826]|\n",
      "|[[,,,,,, [d43bee0...|[1, 11, true]|                null|     null|1560987374|      null|  94494|null|11761|     null|94494_11761|[1, 1, 17, 0]|   94494|[,, android, api,]|     post| [0, 0]|     null|Тот самый француз...|       null|[699]|\n",
      "|[[,,,,,, [e1fe2b4...| [1, 1, true]|                null|     null|1561155082|      null|  94494|null|11773|     null|94494_11773|[1, 1, 27, 0]|   94494|[,, android, api,]|     post| [0, 0]|     null|Да, знатное шоу с...|       null|[718]|\n",
      "|[[,,,,,, [6fd36cc...| [1, 0, true]|                null|     null|1562425403|      null|  94494|null|11776|     null|94494_11776|[1, 1, 26, 0]|   94494|[,, android, api,]|     post| [1, 0]|     null|На акциях #Раздел...|       null|[643]|\n",
      "|[[,,,,,, [6e362b4...| [1, 0, true]|                null|     null|1562433670|      null|  94494|null|11777|     null|94494_11777|[1, 1, 12, 0]|   94494|[,, android, api,]|     post| [0, 0]|     null|А ещё сегодня на ...|       null|[677]|\n",
      "|[[,,,,,, [287721f...| [1, 1, true]|                null|     null|1566767811|      null|  94494|null|11780|     null|94494_11780|[1, 1, 12, 0]|   94494|[,, android, api,]|     post| [0, 0]|     null|Говорят, давно от...|       null|[474]|\n",
      "|[[,,,,,, [eef434c...| [1, 0, true]|                null|     null|1567495072|      null|  94494|null|11782|     null|94494_11782|[1, 1, 28, 0]|   94494|[,, android, api,]|     post| [0, 0]|     null|В этом году получ...|       null|[435]|\n",
      "|[[,,,,,, [71655cc...| [1, 6, true]|                null|     null|1567620712|      null|  94494|null|11783|     null|94494_11783|[1, 1, 10, 0]|   94494|[,, android, api,]|     post| [0, 0]|     null|Не успели ещё под...|       null|[407]|\n",
      "|                null| [1, 0, true]|[[[[,,, [[[, open...|     null|1567951378|      null|  94494|null|11795|     null|94494_11795| [1, 1, 1, 0]|   94494|[,, android, api,]|     post| [0, 0]|     null|Ого, кажется в эт...|       null|[210]|\n",
      "+--------------------+-------------+--------------------+---------+----------+----------+-------+----+-----+---------+-----------+-------------+--------+------------------+---------+-------+---------+--------------------+-----------+-----+\n",
      "only showing top 20 rows\n",
      "\n"
     ]
    }
   ],
   "source": [
    "posts1_df.show()"
   ]
  },
  {
   "cell_type": "code",
   "execution_count": 50,
   "metadata": {
    "ExecuteTime": {
     "end_time": "2020-10-06T21:18:13.253867Z",
     "start_time": "2020-10-06T21:18:13.169769Z"
    }
   },
   "outputs": [],
   "source": [
    "posts1_df.createOrReplaceTempView(\"df1_view\")\n",
    "posts2_df.createOrReplaceTempView(\"df2_view\")\n",
    "group_posts_df.createOrReplaceTempView(\"group_posts_view\")\n",
    "posts1 = sc.sql(\"\"\"SELECT id, copy_history, owner_id\n",
    "                            FROM df1_view \n",
    "                            WHERE copy_history IS NOT NULL \n",
    "                       \"\"\")\n",
    "posts2 = sc.sql(\"\"\"SELECT id, copy_history, owner_id\n",
    "                            FROM df2_view \n",
    "                            WHERE copy_history IS NOT NULL \n",
    "                       \"\"\")"
   ]
  },
  {
   "cell_type": "code",
   "execution_count": 51,
   "metadata": {
    "ExecuteTime": {
     "end_time": "2020-10-06T21:18:14.592143Z",
     "start_time": "2020-10-06T21:18:14.552118Z"
    }
   },
   "outputs": [],
   "source": [
    "posts1.createOrReplaceTempView(\"posts1_view\")\n",
    "posts2.createOrReplaceTempView(\"posts2_view\")\n",
    "reposts_from_group = sc.sql(\"\"\"SELECT gpv.id, p1v.owner_id \n",
    "                            FROM posts1_view p1v, group_posts_view gpv\n",
    "                            WHERE p1v.copy_history[0].id == gpv.id\n",
    "                       \"\"\")"
   ]
  },
  {
   "cell_type": "code",
   "execution_count": 53,
   "metadata": {
    "ExecuteTime": {
     "end_time": "2020-10-06T21:18:52.312269Z",
     "start_time": "2020-10-06T21:18:43.785212Z"
    }
   },
   "outputs": [
    {
     "name": "stdout",
     "output_type": "stream",
     "text": [
      "+---+----------------------+\n",
      "| id|collect_list(owner_id)|\n",
      "+---+----------------------+\n",
      "| 18|  [110949250, 14793...|\n",
      "| 26|  [110949250, 15239...|\n",
      "| 27|  [105839362, 14179...|\n",
      "| 29|  [25646344, 789631...|\n",
      "| 61|  [62516620, 832532...|\n",
      "| 63|  [107298055, 11094...|\n",
      "|125|  [141797323, 52798...|\n",
      "|140|  [25646344, 198263...|\n",
      "|158|  [105839362, 25646...|\n",
      "|298|  [77470563, 156415...|\n",
      "|303|  [134346829, 13374...|\n",
      "|389|  [25646344, 156415...|\n",
      "|397|  [107298055, 52826...|\n",
      "|410|  [25646344, 147936...|\n",
      "|447|  [4403478, 6921930...|\n",
      "|474|  [189933794, 55462...|\n",
      "|533|  [49475876, 122226...|\n",
      "|679|  [3778842, 4672831...|\n",
      "|754|  [76887250, 136754...|\n",
      "|796|  [141797323, 24313...|\n",
      "+---+----------------------+\n",
      "only showing top 20 rows\n",
      "\n"
     ]
    },
    {
     "name": "stderr",
     "output_type": "stream",
     "text": [
      "G:\\soft\\Anaconda\\lib\\site-packages\\pyspark\\sql\\pandas\\conversion.py:88: UserWarning: toPandas attempted Arrow optimization because 'spark.sql.execution.arrow.pyspark.enabled' is set to true; however, failed by the reason below:\n",
      "  PyArrow >= 0.15.1 must be installed; however, it was not found.\n",
      "Attempting non-optimization as 'spark.sql.execution.arrow.pyspark.fallback.enabled' is set to true.\n",
      "  warnings.warn(msg)\n"
     ]
    }
   ],
   "source": [
    "list_of_reposters = reposts_from_group.groupby(\"id\").agg(collect_list(\"owner_id\"))\n",
    "list_of_reposters.show()\n",
    "list_of_reposters.toPandas().to_json(os.path.join(result_dir, 'reposters_list.json'))"
   ]
  },
  {
   "cell_type": "code",
   "execution_count": null,
   "metadata": {},
   "outputs": [],
   "source": []
  }
 ],
 "metadata": {
  "kernelspec": {
   "display_name": "Python 3",
   "language": "python",
   "name": "python3"
  },
  "language_info": {
   "codemirror_mode": {
    "name": "ipython",
    "version": 3
   },
   "file_extension": ".py",
   "mimetype": "text/x-python",
   "name": "python",
   "nbconvert_exporter": "python",
   "pygments_lexer": "ipython3",
   "version": "3.7.3"
  },
  "varInspector": {
   "cols": {
    "lenName": 16,
    "lenType": 16,
    "lenVar": 40
   },
   "kernels_config": {
    "python": {
     "delete_cmd_postfix": "",
     "delete_cmd_prefix": "del ",
     "library": "var_list.py",
     "varRefreshCmd": "print(var_dic_list())"
    },
    "r": {
     "delete_cmd_postfix": ") ",
     "delete_cmd_prefix": "rm(",
     "library": "var_list.r",
     "varRefreshCmd": "cat(var_dic_list()) "
    }
   },
   "types_to_exclude": [
    "module",
    "function",
    "builtin_function_or_method",
    "instance",
    "_Feature"
   ],
   "window_display": false
  }
 },
 "nbformat": 4,
 "nbformat_minor": 2
}
