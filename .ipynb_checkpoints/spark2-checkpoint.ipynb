{
 "cells": [
  {
   "cell_type": "code",
   "execution_count": 1,
   "metadata": {
    "ExecuteTime": {
     "end_time": "2020-10-06T12:08:17.191898Z",
     "start_time": "2020-10-06T12:08:13.851703Z"
    }
   },
   "outputs": [],
   "source": [
    "from pyspark.sql import SparkSession\n",
    "from pyspark.context import SparkContext\n",
    "from pyspark.sql.functions import * \n",
    "from pyspark.sql.types import * \n",
    "import pandas as pd\n",
    "import os"
   ]
  },
  {
   "cell_type": "code",
   "execution_count": 2,
   "metadata": {
    "ExecuteTime": {
     "end_time": "2020-10-06T12:08:22.287668Z",
     "start_time": "2020-10-06T12:08:17.204897Z"
    }
   },
   "outputs": [],
   "source": [
    "sc = SparkSession.builder.appName(\"PysparkLab2\") \\\n",
    "    .config (\"spark.sql.shuffle.partitions\", \"50\") \\\n",
    "    .config(\"spark.driver.maxResultSize\",\"5g\") \\\n",
    "    .config (\"spark.sql.execution.arrow.enabled\", \"true\") \\\n",
    "    .getOrCreate()"
   ]
  },
  {
   "cell_type": "code",
   "execution_count": 3,
   "metadata": {
    "ExecuteTime": {
     "end_time": "2020-10-06T12:08:27.561563Z",
     "start_time": "2020-10-06T12:08:23.193822Z"
    }
   },
   "outputs": [],
   "source": [
    "data_dir = r\"G:\\Data\\spark_labs\\bigdata20\\bigdata20\\followers_posts_likes.parquet\"\n",
    "result_dir = r\"G:\\Data\\spark_labs\\bigdata20\\bigdata20\\results\\task2\"\n",
    "\n",
    "parquet_files = [_ for _ in os.listdir(data_dir) if  _.endswith('.parquet')]\n",
    "\n",
    "for file_idx, file_path in enumerate(parquet_files):\n",
    "    if file_idx == 0:\n",
    "        users_df = sc.read.parquet(os.path.join(data_dir, file_path))\n",
    "    else: \n",
    "        users_df = users_df.union(sc.read.parquet(os.path.join(data_dir, file_path)))\n",
    "# users_df = sc.read.parquet(users_path)"
   ]
  },
  {
   "cell_type": "code",
   "execution_count": 4,
   "metadata": {
    "ExecuteTime": {
     "end_time": "2020-10-06T12:08:34.066830Z",
     "start_time": "2020-10-06T12:08:32.488709Z"
    }
   },
   "outputs": [
    {
     "data": {
      "text/plain": [
       "3190103"
      ]
     },
     "execution_count": 4,
     "metadata": {},
     "output_type": "execute_result"
    }
   ],
   "source": [
    "users_df.count()"
   ]
  },
  {
   "cell_type": "code",
   "execution_count": 5,
   "metadata": {
    "ExecuteTime": {
     "end_time": "2020-10-06T12:08:34.872395Z",
     "start_time": "2020-10-06T12:08:34.583189Z"
    }
   },
   "outputs": [],
   "source": [
    "### Likes\n",
    "users_df.createOrReplaceTempView(\"likes_view\")\n",
    "top_likers = sc.sql(\"select count(itemId) as likes_count, likerId from likes_view WHERE itemType == 'post' GROUP BY likerId ORDER BY likes_count desc LIMIT 20\")"
   ]
  },
  {
   "cell_type": "code",
   "execution_count": 6,
   "metadata": {
    "ExecuteTime": {
     "end_time": "2020-10-06T12:08:40.385751Z",
     "start_time": "2020-10-06T12:08:36.300672Z"
    }
   },
   "outputs": [
    {
     "name": "stdout",
     "output_type": "stream",
     "text": [
      "+-----------+---------+\n",
      "|likes_count|  likerId|\n",
      "+-----------+---------+\n",
      "|       8104|194073434|\n",
      "|       5332|150371150|\n",
      "|       5261|271081114|\n",
      "|       4946|  6524088|\n",
      "|       3711|189597336|\n",
      "|       3394|142999083|\n",
      "|       3217|215686327|\n",
      "|       2747|514404131|\n",
      "|       2350|  2818498|\n",
      "|       2212|419925361|\n",
      "|       2162|493380857|\n",
      "|       2122|424434709|\n",
      "|       1985| 95783577|\n",
      "|       1975| 94697255|\n",
      "|       1777|  4448812|\n",
      "|       1763|330771656|\n",
      "|       1720|228571738|\n",
      "|       1661|325927416|\n",
      "|       1645|347711731|\n",
      "|       1641|501177379|\n",
      "+-----------+---------+\n",
      "\n"
     ]
    },
    {
     "name": "stderr",
     "output_type": "stream",
     "text": [
      "G:\\soft\\Anaconda\\lib\\site-packages\\pyspark\\sql\\pandas\\conversion.py:88: UserWarning: toPandas attempted Arrow optimization because 'spark.sql.execution.arrow.pyspark.enabled' is set to true; however, failed by the reason below:\n",
      "  PyArrow >= 0.15.1 must be installed; however, it was not found.\n",
      "Attempting non-optimization as 'spark.sql.execution.arrow.pyspark.fallback.enabled' is set to true.\n",
      "  warnings.warn(msg)\n"
     ]
    }
   ],
   "source": [
    "top_likers.show()\n",
    "top_likers.toPandas().to_json(os.path.join(result_dir, 'top_liked.json'))"
   ]
  },
  {
   "cell_type": "code",
   "execution_count": 89,
   "metadata": {
    "ExecuteTime": {
     "end_time": "2020-10-06T17:04:03.311347Z",
     "start_time": "2020-10-06T17:03:57.011842Z"
    }
   },
   "outputs": [],
   "source": [
    "posts_data_dir = r\"G:\\Data\\spark_labs\\bigdata20\\bigdata20\\followers_posts_api_final.json\"\n",
    "posts1_path = os.path.join(posts_data_dir, '0_39773a62_followers_posts_api_final.json')\n",
    "posts2_path = os.path.join(posts_data_dir, '1_7a8a2098_followers_posts_api_final.json')\n",
    "posts1_df = sc.read.json(posts1_path)\n",
    "posts2_df = sc.read.json(posts2_path)"
   ]
  },
  {
   "cell_type": "code",
   "execution_count": 90,
   "metadata": {
    "ExecuteTime": {
     "end_time": "2020-10-06T17:04:04.052165Z",
     "start_time": "2020-10-06T17:04:04.049164Z"
    }
   },
   "outputs": [],
   "source": [
    "# can't union because error - 'signer_id'\n",
    "# from pyspark.sql.types import StructType\n",
    "# union_udf = udf(lambda row: [item.pop('signer_id', None) for item in row], StructType())\n",
    "# posts1_df = posts1_df.withColumn('copy_history', lit(union_udf('copy_history')))\n",
    "\n",
    "# posts_df = posts1_df.union(posts2_df)"
   ]
  },
  {
   "cell_type": "code",
   "execution_count": 91,
   "metadata": {
    "ExecuteTime": {
     "end_time": "2020-10-06T17:04:04.606843Z",
     "start_time": "2020-10-06T17:04:04.485757Z"
    }
   },
   "outputs": [
    {
     "name": "stdout",
     "output_type": "stream",
     "text": [
      "+--------------------+-------------+--------------------+---------+----------+----------+-------+----+-----+---------+-----------+-------------+--------+------------------+---------+-------+---------+--------------------+-----------+-----+\n",
      "|         attachments|     comments|        copy_history|copyright|      date|final_post|from_id| geo|   id|is_pinned|        key|        likes|owner_id|       post_source|post_type|reposts|signer_id|                text|unavailable|views|\n",
      "+--------------------+-------------+--------------------+---------+----------+----------+-------+----+-----+---------+-----------+-------------+--------+------------------+---------+-------+---------+--------------------+-----------+-----+\n",
      "|[[,,,,,,,,,, vide...| [0, 0, true]|                null|     null|1550165023|      null|  87449|null| 3316|     null| 87449_3316| [1, 1, 6, 0]|   87449| [,, iphone, api,]|     post| [0, 0]|     null|Я люблю Вас. Я вч...|       null|[428]|\n",
      "|[[,,,,,, [fe02668...| [0, 0, true]|                null|     null|1553774858|      null|  87449|null| 3318|     null| 87449_3318|[1, 1, 11, 0]|   87449| [,, iphone, api,]|     post| [0, 0]|     null|call me by your n...|       null|[477]|\n",
      "|[[,,,,,, [c25cda8...| [0, 0, true]|                null|     null|1555602008|      null|  87449|null| 3320|     null| 87449_3320|[1, 1, 10, 0]|   87449| [,, iphone, api,]|     post| [0, 0]|     null|                  🦋|       null|[419]|\n",
      "|[[,,,,,,,,,, vide...| [0, 0, true]|                null|     null|1558105050|      null|  87449|null| 3322|     null| 87449_3322| [1, 1, 8, 0]|   87449| [,, iphone, api,]|     post| [1, 0]|     null|         Браво,Юра !|       null|[442]|\n",
      "|[[,,,,,, [7758fb4...| [0, 0, true]|                null|     null|1559301729|      null|  87449|null| 3324|     null| 87449_3324| [1, 1, 8, 0]|   87449| [,, iphone, api,]|     post| [0, 0]|     null|                  🕊|       null|[425]|\n",
      "|[[,,,,,, [666dd69...| [0, 0, true]|                null|     null|1564088944|      null|  87449|null| 3325|     null| 87449_3325|[1, 1, 10, 0]|   87449| [,, iphone, api,]|     post| [0, 0]|     null|Самый неприятный ...|       null|[301]|\n",
      "|[[,,,,,, [06ab977...| [0, 0, true]|                null|     null|1565162341|      null|  87449|null| 3326|     null| 87449_3326| [1, 1, 6, 0]|   87449| [,, iphone, api,]|     post| [0, 0]|     null|                  🔅|       null|[309]|\n",
      "|[[,,,,,, [74fdfc9...| [0, 0, true]|                null|     null|1566293696|      null|  87449|null| 3327|     null| 87449_3327| [1, 1, 9, 0]|   87449| [,, iphone, api,]|     post| [0, 0]|     null|Пекло.Пушка.Вышка...|       null|[366]|\n",
      "|[[,,,,,, [02804b0...| [0, 0, true]|                null|     null|1571221102|      null|  87449|null| 3329|     null| 87449_3329| [1, 1, 0, 0]|   87449| [,, iphone, api,]|     post| [0, 0]|     null|                    |       null|[139]|\n",
      "|[[,,,,,, [a88e65c...| [1, 1, true]|                null|     null|1559647730|      null|  94494|null|11752|     null|94494_11752|[1, 1, 17, 0]|   94494|         [,,, vk,]|     post| [0, 0]|     null|Тот неловкий моме...|       null|[594]|\n",
      "|[[,,,,,, [97b07ec...| [1, 2, true]|                null|     null|1559854126|      null|  94494|null|11754|     null|94494_11754|[1, 1, 12, 0]|   94494|[,, android, api,]|     post| [0, 0]|     null|Белые ночи + жарк...|       null|[655]|\n",
      "|[[,,,,,, [61d64a1...| [1, 3, true]|                null|     null|1560680534|      null|  94494|null|11757|     null|94494_11757|[1, 1, 26, 0]|   94494|[,, android, api,]|     post| [0, 0]|     null|Не велосипедом ед...|       null|[826]|\n",
      "|[[,,,,,, [d43bee0...|[1, 11, true]|                null|     null|1560987374|      null|  94494|null|11761|     null|94494_11761|[1, 1, 17, 0]|   94494|[,, android, api,]|     post| [0, 0]|     null|Тот самый француз...|       null|[699]|\n",
      "|[[,,,,,, [e1fe2b4...| [1, 1, true]|                null|     null|1561155082|      null|  94494|null|11773|     null|94494_11773|[1, 1, 27, 0]|   94494|[,, android, api,]|     post| [0, 0]|     null|Да, знатное шоу с...|       null|[718]|\n",
      "|[[,,,,,, [6fd36cc...| [1, 0, true]|                null|     null|1562425403|      null|  94494|null|11776|     null|94494_11776|[1, 1, 26, 0]|   94494|[,, android, api,]|     post| [1, 0]|     null|На акциях #Раздел...|       null|[643]|\n",
      "|[[,,,,,, [6e362b4...| [1, 0, true]|                null|     null|1562433670|      null|  94494|null|11777|     null|94494_11777|[1, 1, 12, 0]|   94494|[,, android, api,]|     post| [0, 0]|     null|А ещё сегодня на ...|       null|[677]|\n",
      "|[[,,,,,, [287721f...| [1, 1, true]|                null|     null|1566767811|      null|  94494|null|11780|     null|94494_11780|[1, 1, 12, 0]|   94494|[,, android, api,]|     post| [0, 0]|     null|Говорят, давно от...|       null|[474]|\n",
      "|[[,,,,,, [eef434c...| [1, 0, true]|                null|     null|1567495072|      null|  94494|null|11782|     null|94494_11782|[1, 1, 28, 0]|   94494|[,, android, api,]|     post| [0, 0]|     null|В этом году получ...|       null|[435]|\n",
      "|[[,,,,,, [71655cc...| [1, 6, true]|                null|     null|1567620712|      null|  94494|null|11783|     null|94494_11783|[1, 1, 10, 0]|   94494|[,, android, api,]|     post| [0, 0]|     null|Не успели ещё под...|       null|[407]|\n",
      "|                null| [1, 0, true]|[[[[,,, [[[, open...|     null|1567951378|      null|  94494|null|11795|     null|94494_11795| [1, 1, 1, 0]|   94494|[,, android, api,]|     post| [0, 0]|     null|Ого, кажется в эт...|       null|[210]|\n",
      "+--------------------+-------------+--------------------+---------+----------+----------+-------+----+-----+---------+-----------+-------------+--------+------------------+---------+-------+---------+--------------------+-----------+-----+\n",
      "only showing top 20 rows\n",
      "\n"
     ]
    }
   ],
   "source": [
    "posts1_df.show()"
   ]
  },
  {
   "cell_type": "code",
   "execution_count": 92,
   "metadata": {
    "ExecuteTime": {
     "end_time": "2020-10-06T17:04:06.006878Z",
     "start_time": "2020-10-06T17:04:06.002868Z"
    }
   },
   "outputs": [
    {
     "data": {
      "text/plain": [
       "['attachments',\n",
       " 'comments',\n",
       " 'copy_history',\n",
       " 'copyright',\n",
       " 'date',\n",
       " 'final_post',\n",
       " 'from_id',\n",
       " 'geo',\n",
       " 'id',\n",
       " 'is_pinned',\n",
       " 'key',\n",
       " 'likes',\n",
       " 'owner_id',\n",
       " 'post_source',\n",
       " 'post_type',\n",
       " 'reposts',\n",
       " 'signer_id',\n",
       " 'text',\n",
       " 'unavailable',\n",
       " 'views']"
      ]
     },
     "execution_count": 92,
     "metadata": {},
     "output_type": "execute_result"
    }
   ],
   "source": [
    "posts1_df.columns"
   ]
  },
  {
   "cell_type": "code",
   "execution_count": 95,
   "metadata": {
    "ExecuteTime": {
     "end_time": "2020-10-06T17:29:04.972566Z",
     "start_time": "2020-10-06T17:29:04.918524Z"
    }
   },
   "outputs": [],
   "source": [
    "### From the second dataset\n",
    "posts1_df.createOrReplaceTempView(\"df1_view\")\n",
    "posts2_df.createOrReplaceTempView(\"df2_view\")\n",
    "top_reposters = sc.sql(\"\"\"SELECT owner_id, count(copy_history) as reposts_count \n",
    "                            FROM df1_view \n",
    "                            WHERE copy_history IS NOT NULL GROUP \n",
    "                            BY owner_id \n",
    "                            UNION ALL \n",
    "                            SELECT owner_id, count(copy_history) as reposts_count \n",
    "                            FROM df2_view \n",
    "                            WHERE copy_history IS NOT NULL \n",
    "                            GROUP BY owner_id \n",
    "                            ORDER BY reposts_count desc\n",
    "                            LIMIT 20\n",
    "                       \"\"\")\n",
    "# top_reposters = sc.sql(\"select id, comments, copy_history, text, views, reposts from df1_view WHERE copy_history IS NOT NULL ORDER BY comments.count desc LIMIT 20\")"
   ]
  },
  {
   "cell_type": "code",
   "execution_count": 96,
   "metadata": {
    "ExecuteTime": {
     "end_time": "2020-10-06T17:29:13.562017Z",
     "start_time": "2020-10-06T17:29:06.467976Z"
    }
   },
   "outputs": [
    {
     "name": "stdout",
     "output_type": "stream",
     "text": [
      "+---------+-------------+\n",
      "| owner_id|reposts_count|\n",
      "+---------+-------------+\n",
      "|  2547211|        19187|\n",
      "|  2547211|        18555|\n",
      "|357231922|        12162|\n",
      "|357231922|        11187|\n",
      "|168543860|         9232|\n",
      "|168543860|         9197|\n",
      "| 25646344|         5748|\n",
      "| 25646344|         5374|\n",
      "|176861294|         4626|\n",
      "|176861294|         4396|\n",
      "|    29840|         3920|\n",
      "|524656784|         3752|\n",
      "|143207077|         3674|\n",
      "|459339006|         3542|\n",
      "|524656784|         3490|\n",
      "|143207077|         3487|\n",
      "|141687240|         3460|\n",
      "|514384760|         3386|\n",
      "|141687240|         3344|\n",
      "|    29840|         3244|\n",
      "+---------+-------------+\n",
      "only showing top 20 rows\n",
      "\n"
     ]
    }
   ],
   "source": [
    "top_reposters.show()"
   ]
  },
  {
   "cell_type": "code",
   "execution_count": null,
   "metadata": {
    "ExecuteTime": {
     "end_time": "2020-10-06T00:24:47.385134Z",
     "start_time": "2020-10-06T00:24:42.963Z"
    }
   },
   "outputs": [],
   "source": []
  },
  {
   "cell_type": "code",
   "execution_count": null,
   "metadata": {},
   "outputs": [],
   "source": []
  },
  {
   "cell_type": "code",
   "execution_count": null,
   "metadata": {},
   "outputs": [],
   "source": []
  },
  {
   "cell_type": "code",
   "execution_count": null,
   "metadata": {},
   "outputs": [],
   "source": []
  },
  {
   "cell_type": "code",
   "execution_count": null,
   "metadata": {},
   "outputs": [],
   "source": []
  },
  {
   "cell_type": "code",
   "execution_count": null,
   "metadata": {},
   "outputs": [],
   "source": []
  }
 ],
 "metadata": {
  "kernelspec": {
   "display_name": "Python 3",
   "language": "python",
   "name": "python3"
  },
  "language_info": {
   "codemirror_mode": {
    "name": "ipython",
    "version": 3
   },
   "file_extension": ".py",
   "mimetype": "text/x-python",
   "name": "python",
   "nbconvert_exporter": "python",
   "pygments_lexer": "ipython3",
   "version": "3.7.3"
  },
  "varInspector": {
   "cols": {
    "lenName": 16,
    "lenType": 16,
    "lenVar": 40
   },
   "kernels_config": {
    "python": {
     "delete_cmd_postfix": "",
     "delete_cmd_prefix": "del ",
     "library": "var_list.py",
     "varRefreshCmd": "print(var_dic_list())"
    },
    "r": {
     "delete_cmd_postfix": ") ",
     "delete_cmd_prefix": "rm(",
     "library": "var_list.r",
     "varRefreshCmd": "cat(var_dic_list()) "
    }
   },
   "types_to_exclude": [
    "module",
    "function",
    "builtin_function_or_method",
    "instance",
    "_Feature"
   ],
   "window_display": false
  }
 },
 "nbformat": 4,
 "nbformat_minor": 2
}
